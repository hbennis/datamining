{
 "cells": [
  {
   "cell_type": "markdown",
   "metadata": {},
   "source": [
    "## Projet DataMining: Prédiction de prix d'appartements en Ile de France\n",
    "\n"
   ]
  },
  {
   "cell_type": "markdown",
   "metadata": {},
   "source": [
    "Il s'agit ici d'un problème de régression.\n",
    "Nous souhaitons prédire les prix des logements en Ile-de-France à partir de plusieurs variables (surface, étage, charges, date de construction...).\n",
    "\n",
    "Nos données ont été obtenues grâce à la technique de scraping, nous avons programé un scraper python qui a récupéré les annonces sur le site de l'agence Foncia. Le code et les résultats du scraper sont disponibles sur le repository Github.\n",
    "\n",
    "Après le nettoyage des données, nous avons utilisé plusieurs modèles : RandomForestRegressor, SVR et LinearRegressor\n",
    "\n",
    "Pour chaque modèle, les étapes sont les mêmes:\n",
    "\n",
    "> 1. Décomposer le dataset en base d'apprentissage et base de test\n",
    "> 2. Utiliser la base d'apprentissage pour construire un modèle de prédiction\n",
    "> 3. Evaluer le modèle en utilisant la base de test"
   ]
  },
  {
   "cell_type": "markdown",
   "metadata": {},
   "source": [
    "Ouverture du dataframe construit à partir du scrapping des sites Foncia"
   ]
  },
  {
   "cell_type": "code",
   "execution_count": 1,
   "metadata": {},
   "outputs": [
    {
     "data": {
      "text/html": [
       "<div>\n",
       "<style>\n",
       "    .dataframe thead tr:only-child th {\n",
       "        text-align: right;\n",
       "    }\n",
       "\n",
       "    .dataframe thead th {\n",
       "        text-align: left;\n",
       "    }\n",
       "\n",
       "    .dataframe tbody tr th {\n",
       "        vertical-align: top;\n",
       "    }\n",
       "</style>\n",
       "<table border=\"1\" class=\"dataframe\">\n",
       "  <thead>\n",
       "    <tr style=\"text-align: right;\">\n",
       "      <th></th>\n",
       "      <th>Unnamed: 0</th>\n",
       "      <th>Unnamed: 0.1</th>\n",
       "      <th>categorie</th>\n",
       "      <th>charges_annuelles</th>\n",
       "      <th>copropriete_en_difficulte</th>\n",
       "      <th>date_de_construction</th>\n",
       "      <th>etage</th>\n",
       "      <th>mode_chauffage</th>\n",
       "      <th>nature_chauffage</th>\n",
       "      <th>nb_etages</th>\n",
       "      <th>nb_lots</th>\n",
       "      <th>postal_code</th>\n",
       "      <th>price</th>\n",
       "      <th>surface</th>\n",
       "      <th>Unnamed: 0.2</th>\n",
       "      <th>mode_chauffage.1</th>\n",
       "      <th>nb_chambres</th>\n",
       "      <th>nb_piece</th>\n",
       "    </tr>\n",
       "  </thead>\n",
       "  <tbody>\n",
       "    <tr>\n",
       "      <th>0</th>\n",
       "      <td>0</td>\n",
       "      <td>0</td>\n",
       "      <td>Ancien</td>\n",
       "      <td>240 €</td>\n",
       "      <td>non</td>\n",
       "      <td>1890.0</td>\n",
       "      <td>7</td>\n",
       "      <td>Individuel</td>\n",
       "      <td>Electrique</td>\n",
       "      <td>7.0</td>\n",
       "      <td>23.0</td>\n",
       "      <td>paris-75010</td>\n",
       "      <td>\\n                                            ...</td>\n",
       "      <td>7 m²</td>\n",
       "      <td>0</td>\n",
       "      <td>Individuel</td>\n",
       "      <td>1.0</td>\n",
       "      <td>1.0</td>\n",
       "    </tr>\n",
       "    <tr>\n",
       "      <th>1</th>\n",
       "      <td>1</td>\n",
       "      <td>1</td>\n",
       "      <td>Ancien</td>\n",
       "      <td>NaN</td>\n",
       "      <td>non</td>\n",
       "      <td>1905.0</td>\n",
       "      <td>6</td>\n",
       "      <td>NaN</td>\n",
       "      <td>NaN</td>\n",
       "      <td>6.0</td>\n",
       "      <td>19.0</td>\n",
       "      <td>paris-75017</td>\n",
       "      <td>\\n                                            ...</td>\n",
       "      <td>6 m²</td>\n",
       "      <td>1</td>\n",
       "      <td>NaN</td>\n",
       "      <td>NaN</td>\n",
       "      <td>1.0</td>\n",
       "    </tr>\n",
       "    <tr>\n",
       "      <th>2</th>\n",
       "      <td>2</td>\n",
       "      <td>2</td>\n",
       "      <td>Ancien</td>\n",
       "      <td>132 €</td>\n",
       "      <td>non</td>\n",
       "      <td>1800.0</td>\n",
       "      <td>6</td>\n",
       "      <td>Sans</td>\n",
       "      <td>NaN</td>\n",
       "      <td>6.0</td>\n",
       "      <td>31.0</td>\n",
       "      <td>paris-75003</td>\n",
       "      <td>\\n                                            ...</td>\n",
       "      <td>5.69 m²</td>\n",
       "      <td>2</td>\n",
       "      <td>Sans</td>\n",
       "      <td>1.0</td>\n",
       "      <td>1.0</td>\n",
       "    </tr>\n",
       "    <tr>\n",
       "      <th>3</th>\n",
       "      <td>3</td>\n",
       "      <td>3</td>\n",
       "      <td>NaN</td>\n",
       "      <td>240 €</td>\n",
       "      <td>non</td>\n",
       "      <td>1900.0</td>\n",
       "      <td>6</td>\n",
       "      <td>Individuel</td>\n",
       "      <td>Gaz</td>\n",
       "      <td>6.0</td>\n",
       "      <td>28.0</td>\n",
       "      <td>paris-75012</td>\n",
       "      <td>\\n                                            ...</td>\n",
       "      <td>7 m²</td>\n",
       "      <td>3</td>\n",
       "      <td>Individuel</td>\n",
       "      <td>1.0</td>\n",
       "      <td>1.0</td>\n",
       "    </tr>\n",
       "    <tr>\n",
       "      <th>4</th>\n",
       "      <td>4</td>\n",
       "      <td>4</td>\n",
       "      <td>Ancien</td>\n",
       "      <td>144 €</td>\n",
       "      <td>non</td>\n",
       "      <td>1900.0</td>\n",
       "      <td>7</td>\n",
       "      <td>Individuel</td>\n",
       "      <td>Electrique</td>\n",
       "      <td>7.0</td>\n",
       "      <td>50.0</td>\n",
       "      <td>paris-75017</td>\n",
       "      <td>\\n                                            ...</td>\n",
       "      <td>7.8 m²</td>\n",
       "      <td>4</td>\n",
       "      <td>Individuel</td>\n",
       "      <td>NaN</td>\n",
       "      <td>1.0</td>\n",
       "    </tr>\n",
       "  </tbody>\n",
       "</table>\n",
       "</div>"
      ],
      "text/plain": [
       "   Unnamed: 0  Unnamed: 0.1 categorie charges_annuelles  \\\n",
       "0           0             0    Ancien             240 €   \n",
       "1           1             1    Ancien               NaN   \n",
       "2           2             2    Ancien             132 €   \n",
       "3           3             3       NaN             240 €   \n",
       "4           4             4    Ancien             144 €   \n",
       "\n",
       "  copropriete_en_difficulte  date_de_construction etage mode_chauffage  \\\n",
       "0                       non                1890.0     7     Individuel   \n",
       "1                       non                1905.0     6            NaN   \n",
       "2                       non                1800.0     6           Sans   \n",
       "3                       non                1900.0     6     Individuel   \n",
       "4                       non                1900.0     7     Individuel   \n",
       "\n",
       "  nature_chauffage  nb_etages  nb_lots  postal_code  \\\n",
       "0       Electrique        7.0     23.0  paris-75010   \n",
       "1              NaN        6.0     19.0  paris-75017   \n",
       "2              NaN        6.0     31.0  paris-75003   \n",
       "3              Gaz        6.0     28.0  paris-75012   \n",
       "4       Electrique        7.0     50.0  paris-75017   \n",
       "\n",
       "                                               price  surface  Unnamed: 0.2  \\\n",
       "0  \\n                                            ...     7 m²             0   \n",
       "1  \\n                                            ...     6 m²             1   \n",
       "2  \\n                                            ...  5.69 m²             2   \n",
       "3  \\n                                            ...     7 m²             3   \n",
       "4  \\n                                            ...   7.8 m²             4   \n",
       "\n",
       "  mode_chauffage.1  nb_chambres  nb_piece  \n",
       "0       Individuel          1.0       1.0  \n",
       "1              NaN          NaN       1.0  \n",
       "2             Sans          1.0       1.0  \n",
       "3       Individuel          1.0       1.0  \n",
       "4       Individuel          NaN       1.0  "
      ]
     },
     "execution_count": 1,
     "metadata": {},
     "output_type": "execute_result"
    }
   ],
   "source": [
    "import pandas as pd\n",
    "import numpy as np\n",
    "import matplotlib.pyplot as plt\n",
    "from sklearn.model_selection import train_test_split\n",
    "import seaborn as sns\n",
    "%matplotlib inline\n",
    "pd.options.mode.chained_assignment = None \n",
    "\n",
    "df = pd.read_csv(\"scrapping_results_final.csv\")\n",
    "df.head()\n"
   ]
  },
  {
   "cell_type": "markdown",
   "metadata": {},
   "source": [
    "## I. Nettoyage de données\n",
    "\n",
    "\n",
    "La première étape consiste à nettoyer le dataframe pour avoir des données lisibles et au bon format"
   ]
  },
  {
   "cell_type": "code",
   "execution_count": 2,
   "metadata": {
    "collapsed": true
   },
   "outputs": [],
   "source": [
    "df.drop([\"Unnamed: 0\",'Unnamed: 0.1','Unnamed: 0.2','mode_chauffage.1'], axis=1, inplace=True)"
   ]
  },
  {
   "cell_type": "code",
   "execution_count": 3,
   "metadata": {
    "collapsed": true
   },
   "outputs": [],
   "source": [
    "df['charges_annuelles'] = df['charges_annuelles'].str.replace('€', '')\n",
    "df['charges_annuelles'] = df['charges_annuelles'].str.replace(' ', '')"
   ]
  },
  {
   "cell_type": "code",
   "execution_count": 4,
   "metadata": {
    "collapsed": true
   },
   "outputs": [],
   "source": [
    "def convert_int(x):\n",
    "    if pd.notnull(x):\n",
    "        return int(x)\n",
    "\n",
    "df['date_de_construction'] = df['date_de_construction'].apply(lambda x: convert_int(x))\n",
    "df['etage'] = df['etage'].apply(lambda x: 0 if x==\"RDC\" else x)\n",
    "df['etage'] = df['etage'].apply(lambda x: convert_int(x))\n",
    "df['nb_etages'] = df['nb_etages'].apply(lambda x: convert_int(x))\n",
    "df['postal_code'] = df['postal_code'].apply(lambda x: x[-5:-1]+x[-1])\n",
    "df['price'] = df['price'].str.replace(' ','')\n",
    "df['price'] = df['price'].str.replace('\\n','')\n",
    "df['price'] = df['price'].str.replace('€','')\n",
    "df['price'] = df['price'].apply(lambda x: convert_int(x))\n",
    "df['surface'] = df['surface'].str.replace('m²','')\n",
    "df['surface'] = df['surface'].apply(lambda x: float(x))\n",
    "df['departement']=df['postal_code'].apply(lambda x: str(x)[0:2])\n",
    "df['departement'] = df['departement'].apply(lambda x: convert_int(x))"
   ]
  },
  {
   "cell_type": "code",
   "execution_count": 5,
   "metadata": {},
   "outputs": [
    {
     "data": {
      "text/html": [
       "<div>\n",
       "<style>\n",
       "    .dataframe thead tr:only-child th {\n",
       "        text-align: right;\n",
       "    }\n",
       "\n",
       "    .dataframe thead th {\n",
       "        text-align: left;\n",
       "    }\n",
       "\n",
       "    .dataframe tbody tr th {\n",
       "        vertical-align: top;\n",
       "    }\n",
       "</style>\n",
       "<table border=\"1\" class=\"dataframe\">\n",
       "  <thead>\n",
       "    <tr style=\"text-align: right;\">\n",
       "      <th></th>\n",
       "      <th>categorie</th>\n",
       "      <th>charges_annuelles</th>\n",
       "      <th>copropriete_en_difficulte</th>\n",
       "      <th>date_de_construction</th>\n",
       "      <th>etage</th>\n",
       "      <th>mode_chauffage</th>\n",
       "      <th>nature_chauffage</th>\n",
       "      <th>nb_etages</th>\n",
       "      <th>nb_lots</th>\n",
       "      <th>postal_code</th>\n",
       "      <th>price</th>\n",
       "      <th>surface</th>\n",
       "      <th>nb_chambres</th>\n",
       "      <th>nb_piece</th>\n",
       "      <th>departement</th>\n",
       "    </tr>\n",
       "  </thead>\n",
       "  <tbody>\n",
       "    <tr>\n",
       "      <th>0</th>\n",
       "      <td>Ancien</td>\n",
       "      <td>240</td>\n",
       "      <td>non</td>\n",
       "      <td>1890.0</td>\n",
       "      <td>7.0</td>\n",
       "      <td>Individuel</td>\n",
       "      <td>Electrique</td>\n",
       "      <td>7.0</td>\n",
       "      <td>23.0</td>\n",
       "      <td>75010</td>\n",
       "      <td>50000.0</td>\n",
       "      <td>7.00</td>\n",
       "      <td>1.0</td>\n",
       "      <td>1.0</td>\n",
       "      <td>75</td>\n",
       "    </tr>\n",
       "    <tr>\n",
       "      <th>1</th>\n",
       "      <td>Ancien</td>\n",
       "      <td>NaN</td>\n",
       "      <td>non</td>\n",
       "      <td>1905.0</td>\n",
       "      <td>6.0</td>\n",
       "      <td>NaN</td>\n",
       "      <td>NaN</td>\n",
       "      <td>6.0</td>\n",
       "      <td>19.0</td>\n",
       "      <td>75017</td>\n",
       "      <td>57000.0</td>\n",
       "      <td>6.00</td>\n",
       "      <td>NaN</td>\n",
       "      <td>1.0</td>\n",
       "      <td>75</td>\n",
       "    </tr>\n",
       "    <tr>\n",
       "      <th>2</th>\n",
       "      <td>Ancien</td>\n",
       "      <td>132</td>\n",
       "      <td>non</td>\n",
       "      <td>1800.0</td>\n",
       "      <td>6.0</td>\n",
       "      <td>Sans</td>\n",
       "      <td>NaN</td>\n",
       "      <td>6.0</td>\n",
       "      <td>31.0</td>\n",
       "      <td>75003</td>\n",
       "      <td>60000.0</td>\n",
       "      <td>5.69</td>\n",
       "      <td>1.0</td>\n",
       "      <td>1.0</td>\n",
       "      <td>75</td>\n",
       "    </tr>\n",
       "    <tr>\n",
       "      <th>3</th>\n",
       "      <td>NaN</td>\n",
       "      <td>240</td>\n",
       "      <td>non</td>\n",
       "      <td>1900.0</td>\n",
       "      <td>6.0</td>\n",
       "      <td>Individuel</td>\n",
       "      <td>Gaz</td>\n",
       "      <td>6.0</td>\n",
       "      <td>28.0</td>\n",
       "      <td>75012</td>\n",
       "      <td>65000.0</td>\n",
       "      <td>7.00</td>\n",
       "      <td>1.0</td>\n",
       "      <td>1.0</td>\n",
       "      <td>75</td>\n",
       "    </tr>\n",
       "    <tr>\n",
       "      <th>4</th>\n",
       "      <td>Ancien</td>\n",
       "      <td>144</td>\n",
       "      <td>non</td>\n",
       "      <td>1900.0</td>\n",
       "      <td>7.0</td>\n",
       "      <td>Individuel</td>\n",
       "      <td>Electrique</td>\n",
       "      <td>7.0</td>\n",
       "      <td>50.0</td>\n",
       "      <td>75017</td>\n",
       "      <td>70000.0</td>\n",
       "      <td>7.80</td>\n",
       "      <td>NaN</td>\n",
       "      <td>1.0</td>\n",
       "      <td>75</td>\n",
       "    </tr>\n",
       "  </tbody>\n",
       "</table>\n",
       "</div>"
      ],
      "text/plain": [
       "  categorie charges_annuelles copropriete_en_difficulte  date_de_construction  \\\n",
       "0    Ancien               240                       non                1890.0   \n",
       "1    Ancien               NaN                       non                1905.0   \n",
       "2    Ancien               132                       non                1800.0   \n",
       "3       NaN               240                       non                1900.0   \n",
       "4    Ancien               144                       non                1900.0   \n",
       "\n",
       "   etage mode_chauffage nature_chauffage  nb_etages  nb_lots postal_code  \\\n",
       "0    7.0     Individuel       Electrique        7.0     23.0       75010   \n",
       "1    6.0            NaN              NaN        6.0     19.0       75017   \n",
       "2    6.0           Sans              NaN        6.0     31.0       75003   \n",
       "3    6.0     Individuel              Gaz        6.0     28.0       75012   \n",
       "4    7.0     Individuel       Electrique        7.0     50.0       75017   \n",
       "\n",
       "     price  surface  nb_chambres  nb_piece  departement  \n",
       "0  50000.0     7.00          1.0       1.0           75  \n",
       "1  57000.0     6.00          NaN       1.0           75  \n",
       "2  60000.0     5.69          1.0       1.0           75  \n",
       "3  65000.0     7.00          1.0       1.0           75  \n",
       "4  70000.0     7.80          NaN       1.0           75  "
      ]
     },
     "execution_count": 5,
     "metadata": {},
     "output_type": "execute_result"
    }
   ],
   "source": [
    "df.head()"
   ]
  },
  {
   "cell_type": "markdown",
   "metadata": {},
   "source": [
    "## II. Interprétation des variables"
   ]
  },
  {
   "cell_type": "markdown",
   "metadata": {},
   "source": [
    "### 1. Remplacement des valeurs nulles\n",
    "\n",
    "Certaines valeurs sont manquantes. Il est nécessaire de les remplacer par des valeurs cohérentes afin de pouvoir ensuite créer un modèle. Dans un premier temps, ces valeurs ont été remplacée par la médiane de chacune des caractéristiques. "
   ]
  },
  {
   "cell_type": "code",
   "execution_count": 6,
   "metadata": {
    "collapsed": true
   },
   "outputs": [],
   "source": [
    "df['charges_annuelles'].fillna(df['charges_annuelles'].median(), inplace=True)\n",
    "df['date_de_construction'].fillna(df['date_de_construction'].median(), inplace=True)\n",
    "df['nb_etages'].fillna(df['nb_etages'].median(), inplace=True)\n",
    "df['nb_lots'].fillna(df['nb_lots'].median(), inplace=True)\n",
    "df['etage'].fillna(df['etage'].median(), inplace=True)\n",
    "df['nb_chambres'].fillna(df['nb_chambres'].median(), inplace=True)\n",
    "df['nb_piece'].fillna(df['nb_piece'].median(), inplace=True)\n",
    "df['categorie'].fillna('Ancien', inplace=True)\n",
    "df['copropriete_en_difficulte'].fillna('non', inplace=True)"
   ]
  },
  {
   "cell_type": "markdown",
   "metadata": {},
   "source": [
    "Le tableau ci-dessous est construit afin de vérifier si toutes les valeurs nulles ont bien été remplacées."
   ]
  },
  {
   "cell_type": "code",
   "execution_count": 7,
   "metadata": {},
   "outputs": [
    {
     "data": {
      "text/html": [
       "<div>\n",
       "<style>\n",
       "    .dataframe thead tr:only-child th {\n",
       "        text-align: right;\n",
       "    }\n",
       "\n",
       "    .dataframe thead th {\n",
       "        text-align: left;\n",
       "    }\n",
       "\n",
       "    .dataframe tbody tr th {\n",
       "        vertical-align: top;\n",
       "    }\n",
       "</style>\n",
       "<table border=\"1\" class=\"dataframe\">\n",
       "  <thead>\n",
       "    <tr style=\"text-align: right;\">\n",
       "      <th></th>\n",
       "      <th>Total</th>\n",
       "      <th>Percent</th>\n",
       "    </tr>\n",
       "  </thead>\n",
       "  <tbody>\n",
       "    <tr>\n",
       "      <th>nature_chauffage</th>\n",
       "      <td>260</td>\n",
       "      <td>0.202966</td>\n",
       "    </tr>\n",
       "    <tr>\n",
       "      <th>mode_chauffage</th>\n",
       "      <td>202</td>\n",
       "      <td>0.157689</td>\n",
       "    </tr>\n",
       "    <tr>\n",
       "      <th>surface</th>\n",
       "      <td>71</td>\n",
       "      <td>0.055425</td>\n",
       "    </tr>\n",
       "    <tr>\n",
       "      <th>price</th>\n",
       "      <td>46</td>\n",
       "      <td>0.035909</td>\n",
       "    </tr>\n",
       "    <tr>\n",
       "      <th>departement</th>\n",
       "      <td>0</td>\n",
       "      <td>0.000000</td>\n",
       "    </tr>\n",
       "    <tr>\n",
       "      <th>nb_piece</th>\n",
       "      <td>0</td>\n",
       "      <td>0.000000</td>\n",
       "    </tr>\n",
       "    <tr>\n",
       "      <th>nb_chambres</th>\n",
       "      <td>0</td>\n",
       "      <td>0.000000</td>\n",
       "    </tr>\n",
       "    <tr>\n",
       "      <th>postal_code</th>\n",
       "      <td>0</td>\n",
       "      <td>0.000000</td>\n",
       "    </tr>\n",
       "    <tr>\n",
       "      <th>nb_lots</th>\n",
       "      <td>0</td>\n",
       "      <td>0.000000</td>\n",
       "    </tr>\n",
       "    <tr>\n",
       "      <th>nb_etages</th>\n",
       "      <td>0</td>\n",
       "      <td>0.000000</td>\n",
       "    </tr>\n",
       "    <tr>\n",
       "      <th>etage</th>\n",
       "      <td>0</td>\n",
       "      <td>0.000000</td>\n",
       "    </tr>\n",
       "    <tr>\n",
       "      <th>date_de_construction</th>\n",
       "      <td>0</td>\n",
       "      <td>0.000000</td>\n",
       "    </tr>\n",
       "    <tr>\n",
       "      <th>copropriete_en_difficulte</th>\n",
       "      <td>0</td>\n",
       "      <td>0.000000</td>\n",
       "    </tr>\n",
       "    <tr>\n",
       "      <th>charges_annuelles</th>\n",
       "      <td>0</td>\n",
       "      <td>0.000000</td>\n",
       "    </tr>\n",
       "    <tr>\n",
       "      <th>categorie</th>\n",
       "      <td>0</td>\n",
       "      <td>0.000000</td>\n",
       "    </tr>\n",
       "  </tbody>\n",
       "</table>\n",
       "</div>"
      ],
      "text/plain": [
       "                           Total   Percent\n",
       "nature_chauffage             260  0.202966\n",
       "mode_chauffage               202  0.157689\n",
       "surface                       71  0.055425\n",
       "price                         46  0.035909\n",
       "departement                    0  0.000000\n",
       "nb_piece                       0  0.000000\n",
       "nb_chambres                    0  0.000000\n",
       "postal_code                    0  0.000000\n",
       "nb_lots                        0  0.000000\n",
       "nb_etages                      0  0.000000\n",
       "etage                          0  0.000000\n",
       "date_de_construction           0  0.000000\n",
       "copropriete_en_difficulte      0  0.000000\n",
       "charges_annuelles              0  0.000000\n",
       "categorie                      0  0.000000"
      ]
     },
     "execution_count": 7,
     "metadata": {},
     "output_type": "execute_result"
    }
   ],
   "source": [
    "total = df.isnull().sum().sort_values(ascending=False)\n",
    "percent = (df.isnull().sum()/df.isnull().count()).sort_values(ascending=False)\n",
    "missing_data = pd.concat([total, percent], axis=1, keys=['Total', 'Percent'])\n",
    "missing_data.head(20)"
   ]
  },
  {
   "cell_type": "markdown",
   "metadata": {},
   "source": [
    "Le prix étant la variable à prédire, les lignes pour lesquelles le prix n'a pas été donné doivent être supprimées. Par ailleurs, comme montré plus tard, la surface impacte fortement le prix. Il est donc préférable de supprimer les lignes où la valeur de la surface est manquante afin de ne pas fausser les résultats."
   ]
  },
  {
   "cell_type": "code",
   "execution_count": 8,
   "metadata": {
    "collapsed": true
   },
   "outputs": [],
   "source": [
    "df = df[pd.notnull(df['price'])]\n",
    "df = df[pd.notnull(df['surface'])]"
   ]
  },
  {
   "cell_type": "code",
   "execution_count": 9,
   "metadata": {},
   "outputs": [
    {
     "data": {
      "text/plain": [
       "(1210, 15)"
      ]
     },
     "execution_count": 9,
     "metadata": {},
     "output_type": "execute_result"
    }
   ],
   "source": [
    "df.shape"
   ]
  },
  {
   "cell_type": "markdown",
   "metadata": {},
   "source": [
    "###### Nous avons donc au final un dataset contenant 1210 appartements et 15 caractéristiques"
   ]
  },
  {
   "cell_type": "markdown",
   "metadata": {},
   "source": [
    "### 2. Interpretation des données\n",
    "\n",
    "Certaines variables contiennent des valeurs équivalentes qui nécessitent d'être regroupées en une seule valeur. "
   ]
  },
  {
   "cell_type": "code",
   "execution_count": 10,
   "metadata": {},
   "outputs": [
    {
     "data": {
      "text/plain": [
       "nature_chauffage\n",
       "Autre                                     3\n",
       "Chaudières à granules                     2\n",
       "Chauffage au sol Electrique               1\n",
       "Chauffage au sol Fuel                     1\n",
       "Chauffage au sol Gaz                     14\n",
       "Electricité + Cheminée                    1\n",
       "Electricité + Poêle                       2\n",
       "Electricité/Bois                          2\n",
       "Electrique                              443\n",
       "Fuel                                     14\n",
       "Fuel + Cheminée                           2\n",
       "Gaz                                     397\n",
       "Gaz (de ville ou Propane) + Cheminée      8\n",
       "Géothermie                               24\n",
       "Mixte                                     6\n",
       "Par le sol                               21\n",
       "Pompe à chaleur                           1\n",
       "Poêle à granules                          1\n",
       "Urbain                                   65\n",
       "Name: nature_chauffage, dtype: int64"
      ]
     },
     "execution_count": 10,
     "metadata": {},
     "output_type": "execute_result"
    }
   ],
   "source": [
    "df['nature_chauffage'].groupby(df['nature_chauffage']).count()"
   ]
  },
  {
   "cell_type": "code",
   "execution_count": 11,
   "metadata": {},
   "outputs": [
    {
     "data": {
      "text/plain": [
       "mode_chauffage\n",
       "Collectif     446\n",
       "Individuel    614\n",
       "Mixte           5\n",
       "Sans            1\n",
       "Name: mode_chauffage, dtype: int64"
      ]
     },
     "execution_count": 11,
     "metadata": {},
     "output_type": "execute_result"
    }
   ],
   "source": [
    "df['mode_chauffage'].groupby(df['mode_chauffage']).count()"
   ]
  },
  {
   "cell_type": "markdown",
   "metadata": {},
   "source": [
    "'Nature_chauffage' peut être regroupé en Electrique, Gaz et Autre_nature.\n",
    "\n",
    "'Mode chauffage' peut être regroupé en Individuel, Collectif et Autre_mode. \n",
    "\n",
    "'Catégorie' peut être regroupé en Ancient et Récent."
   ]
  },
  {
   "cell_type": "code",
   "execution_count": 12,
   "metadata": {},
   "outputs": [
    {
     "data": {
      "text/plain": [
       "nature_chauffage\n",
       "Autre_nature    357\n",
       "Electrique      448\n",
       "Gaz             405\n",
       "Name: nature_chauffage, dtype: int64"
      ]
     },
     "execution_count": 12,
     "metadata": {},
     "output_type": "execute_result"
    }
   ],
   "source": [
    "df['nature_chauffage'][df['nature_chauffage']=='Electricité + Cheminée'] = 'Electrique'\n",
    "df['nature_chauffage'][df['nature_chauffage']=='Electricité + Poêle'] = 'Electrique'\n",
    "df['nature_chauffage'][df['nature_chauffage']=='Electricité/Bois'] = 'Electrique'\n",
    "df['nature_chauffage'][df['nature_chauffage']=='Gaz (de ville ou Propane) + Cheminée'] = 'Gaz'\n",
    "df['nature_chauffage'][(df['nature_chauffage']!= 'Electrique') & (df['nature_chauffage']!= 'Gaz')] = 'Autre_nature'\n",
    "df['nature_chauffage'].groupby(df['nature_chauffage']).count()"
   ]
  },
  {
   "cell_type": "code",
   "execution_count": 13,
   "metadata": {},
   "outputs": [
    {
     "data": {
      "text/plain": [
       "mode_chauffage\n",
       "Autre_mode    150\n",
       "Collectif     446\n",
       "Individuel    614\n",
       "Name: mode_chauffage, dtype: int64"
      ]
     },
     "execution_count": 13,
     "metadata": {},
     "output_type": "execute_result"
    }
   ],
   "source": [
    "df['mode_chauffage'][(df['mode_chauffage']!= 'Individuel') & (df['mode_chauffage']!= 'Collectif')] = 'Autre_mode'\n",
    "df['mode_chauffage'].groupby(df['mode_chauffage']).count()"
   ]
  },
  {
   "cell_type": "code",
   "execution_count": 14,
   "metadata": {},
   "outputs": [
    {
     "data": {
      "text/plain": [
       "array(['Ancien', 'Récent'], dtype=object)"
      ]
     },
     "execution_count": 14,
     "metadata": {},
     "output_type": "execute_result"
    }
   ],
   "source": [
    "df['categorie'][df['categorie']=='Sur plan'] = 'Récent'\n",
    "df['categorie'][df['categorie']=='Moins de 10 ans'] = 'Récent'\n",
    "df['categorie'][df['categorie']=='Neuf'] = 'Récent'\n",
    "df['categorie'].unique()"
   ]
  },
  {
   "cell_type": "markdown",
   "metadata": {},
   "source": [
    "## III. Analyse exploratoire"
   ]
  },
  {
   "cell_type": "markdown",
   "metadata": {},
   "source": [
    "### 1. Analyse de la variable à prédire\n",
    "\n",
    "Il est important de comprendre comment varient les prix des appartements."
   ]
  },
  {
   "cell_type": "code",
   "execution_count": 15,
   "metadata": {},
   "outputs": [
    {
     "data": {
      "text/plain": [
       "<matplotlib.axes._subplots.AxesSubplot at 0x103e0ee48>"
      ]
     },
     "execution_count": 15,
     "metadata": {},
     "output_type": "execute_result"
    },
    {
     "data": {
      "image/png": "[encoded data removed]",
      "text/plain": [
       "<matplotlib.figure.Figure at 0x103e0e390>"
      ]
     },
     "metadata": {},
     "output_type": "display_data"
    }
   ],
   "source": [
    "sns.distplot(df['price'])"
   ]
  },
  {
   "cell_type": "markdown",
   "metadata": {},
   "source": [
    "On constate par ailleurs que certaines valeurs sont très écartées de la moyenne. Les algorithmes d'apprentissage risquent d'avoir plus de mal à les estimer."
   ]
  },
  {
   "cell_type": "code",
   "execution_count": 16,
   "metadata": {},
   "outputs": [
    {
     "data": {
      "image/png": "[encoded data removed]",
      "text/plain": [
       "<matplotlib.figure.Figure at 0x1098ad240>"
      ]
     },
     "metadata": {},
     "output_type": "display_data"
    }
   ],
   "source": [
    " ax = sns.boxplot(x=df[\"price\"])"
   ]
  },
  {
   "cell_type": "markdown",
   "metadata": {},
   "source": [
    "### 2. Analyse des caractérisques"
   ]
  },
  {
   "cell_type": "markdown",
   "metadata": {},
   "source": [
    "Lorsque l'on visualise le prix moyen par mètre carré en fonction du département, on constate une forte disparité entre les prix de Paris 75 et des autres départements. Par ailleurs, l'écart type des prix à Paris est bien plus élevé qu'ailleurs. Il serait donc intéressant de segmenter par arrondissement."
   ]
  },
  {
   "cell_type": "code",
   "execution_count": 17,
   "metadata": {},
   "outputs": [
    {
     "data": {
      "image/png": "[encoded data removed]",
      "text/plain": [
       "<matplotlib.figure.Figure at 0x10b4e0470>"
      ]
     },
     "metadata": {},
     "output_type": "display_data"
    }
   ],
   "source": [
    "df['price_m2']=df['price']/df['surface']\n",
    "ax = sns.barplot(df.departement, df.price_m2, ci=\"sd\", capsize=.2)"
   ]
  },
  {
   "cell_type": "code",
   "execution_count": 18,
   "metadata": {
    "collapsed": true
   },
   "outputs": [],
   "source": [
    "df['arrondissement'] = df['postal_code'].apply(lambda x: x[-2:-1]+x[-1] if x[-5:-3]=='75' else x[-5:-3])\n",
    "df['arrondissement'] = df['arrondissement'].apply(lambda x: convert_int(x))"
   ]
  },
  {
   "cell_type": "code",
   "execution_count": 19,
   "metadata": {},
   "outputs": [
    {
     "data": {
      "image/png": "[encoded data removed]",
      "text/plain": [
       "<matplotlib.figure.Figure at 0x10b6516d8>"
      ]
     },
     "metadata": {},
     "output_type": "display_data"
    }
   ],
   "source": [
    "ax = sns.barplot(df.arrondissement, df.price_m2, ci=\"sd\", capsize=.2)"
   ]
  },
  {
   "cell_type": "markdown",
   "metadata": {},
   "source": [
    "Il semble donc que le prix soit fortement impacté par l'arrondissement mais surtout la zone (Paris/Hors Paris). Il serait donc intéressant de construire une variable zone pour prendre en compte cet aspect."
   ]
  },
  {
   "cell_type": "code",
   "execution_count": 20,
   "metadata": {
    "collapsed": true
   },
   "outputs": [],
   "source": [
    "df['zone_paris']=1\n",
    "df['zone_paris'][df['departement']!=75]=0"
   ]
  },
  {
   "cell_type": "markdown",
   "metadata": {},
   "source": [
    "Il serait intéressant ensuite de visualiser l'impact de la surface sur le prix en fonction de la zone. On constate en effet grâce au graphe ci-dessous une forte corrélation."
   ]
  },
  {
   "cell_type": "code",
   "execution_count": 21,
   "metadata": {},
   "outputs": [
    {
     "data": {
      "text/plain": [
       "<matplotlib.legend.Legend at 0x1a1328cf98>"
      ]
     },
     "execution_count": 21,
     "metadata": {},
     "output_type": "execute_result"
    },
    {
     "data": {
      "image/png": "[encoded data removed]",
      "text/plain": [
       "<matplotlib.figure.Figure at 0x1a13227be0>"
      ]
     },
     "metadata": {},
     "output_type": "display_data"
    }
   ],
   "source": [
    "plt.figure(figsize=(8,6))\n",
    "ax = plt.subplot()\n",
    "ax.scatter(df[df['zone_paris']==1]['surface'],df[df['zone_paris']==1]['price'],c='green',s=40)\n",
    "ax.scatter(df[df['zone_paris']==0]['surface'],df[df['zone_paris']==0]['price'],c='red',s=40)\n",
    "ax.set_xlabel('surface')\n",
    "ax.set_ylabel('price')\n",
    "ax.legend(('Paris','hors Paris'),scatterpoints=1,loc='upper right',fontsize=15,)"
   ]
  },
  {
   "cell_type": "markdown",
   "metadata": {},
   "source": [
    "On pourrait faire de même pour observer l'impact de l'étage sur le prix pour un appartement dans Paris et Hors Paris. Néanmoins les graphes ci-dessous sont moins concluants."
   ]
  },
  {
   "cell_type": "code",
   "execution_count": 22,
   "metadata": {},
   "outputs": [
    {
     "data": {
      "image/png": "[encoded data removed]",
      "text/plain": [
       "<matplotlib.figure.Figure at 0x10b4434e0>"
      ]
     },
     "metadata": {},
     "output_type": "display_data"
    }
   ],
   "source": [
    "ax = sns.barplot(df[df['departement']!=75].etage, df.price_m2, ci=\"sd\", capsize=.2)"
   ]
  },
  {
   "cell_type": "code",
   "execution_count": 23,
   "metadata": {},
   "outputs": [
    {
     "data": {
      "image/png": "[encoded data removed]",
      "text/plain": [
       "<matplotlib.figure.Figure at 0x1a133b0588>"
      ]
     },
     "metadata": {},
     "output_type": "display_data"
    }
   ],
   "source": [
    "ax = sns.barplot(df[df['departement']==75].etage, df.price_m2, ci=\"sd\", capsize=.2)"
   ]
  },
  {
   "cell_type": "markdown",
   "metadata": {},
   "source": [
    "On peut généraliser cette approche à chacune des variables à l'aide de la matrice de corrélation ci-dessous. "
   ]
  },
  {
   "cell_type": "code",
   "execution_count": 24,
   "metadata": {},
   "outputs": [
    {
     "data": {
      "image/png": "[encoded data removed]",
      "text/plain": [
       "<matplotlib.figure.Figure at 0x1a135de470>"
      ]
     },
     "metadata": {},
     "output_type": "display_data"
    }
   ],
   "source": [
    "corrmat = df.corr()\n",
    "f, ax = plt.subplots(figsize=(8, 6))\n",
    "sns.heatmap(corrmat, vmax=.8, square=True);"
   ]
  },
  {
   "cell_type": "markdown",
   "metadata": {},
   "source": [
    "## IV. Premiers modèles : LinearRegression et SVR"
   ]
  },
  {
   "cell_type": "markdown",
   "metadata": {},
   "source": [
    "### 1. Préparation des données\n",
    "    Ces deux modèles nécessitent une préparation similaire des données."
   ]
  },
  {
   "cell_type": "code",
   "execution_count": 25,
   "metadata": {
    "collapsed": true
   },
   "outputs": [],
   "source": [
    "import copy\n",
    "df_lin = copy.copy(df)"
   ]
  },
  {
   "cell_type": "code",
   "execution_count": 26,
   "metadata": {},
   "outputs": [],
   "source": [
    "df_lin.drop(['departement', 'date_de_construction', 'postal_code','arrondissement','price_m2'], axis=1, inplace=True)"
   ]
  },
  {
   "cell_type": "code",
   "execution_count": 27,
   "metadata": {},
   "outputs": [
    {
     "name": "stdout",
     "output_type": "stream",
     "text": [
      "<class 'pandas.core.frame.DataFrame'>\n",
      "Int64Index: 1210 entries, 0 to 1275\n",
      "Data columns (total 13 columns):\n",
      "categorie                    1210 non-null object\n",
      "charges_annuelles            1210 non-null object\n",
      "copropriete_en_difficulte    1210 non-null object\n",
      "etage                        1210 non-null float64\n",
      "mode_chauffage               1210 non-null object\n",
      "nature_chauffage             1210 non-null object\n",
      "nb_etages                    1210 non-null float64\n",
      "nb_lots                      1210 non-null float64\n",
      "price                        1210 non-null float64\n",
      "surface                      1210 non-null float64\n",
      "nb_chambres                  1210 non-null float64\n",
      "nb_piece                     1210 non-null float64\n",
      "zone_paris                   1210 non-null int64\n",
      "dtypes: float64(7), int64(1), object(5)\n",
      "memory usage: 132.3+ KB\n"
     ]
    }
   ],
   "source": [
    "df_lin.info()"
   ]
  },
  {
   "cell_type": "code",
   "execution_count": 28,
   "metadata": {},
   "outputs": [
    {
     "data": {
      "text/html": [
       "<div>\n",
       "<style>\n",
       "    .dataframe thead tr:only-child th {\n",
       "        text-align: right;\n",
       "    }\n",
       "\n",
       "    .dataframe thead th {\n",
       "        text-align: left;\n",
       "    }\n",
       "\n",
       "    .dataframe tbody tr th {\n",
       "        vertical-align: top;\n",
       "    }\n",
       "</style>\n",
       "<table border=\"1\" class=\"dataframe\">\n",
       "  <thead>\n",
       "    <tr style=\"text-align: right;\">\n",
       "      <th></th>\n",
       "      <th>categorie</th>\n",
       "      <th>charges_annuelles</th>\n",
       "      <th>copropriete_en_difficulte</th>\n",
       "      <th>etage</th>\n",
       "      <th>mode_chauffage</th>\n",
       "      <th>nature_chauffage</th>\n",
       "      <th>nb_etages</th>\n",
       "      <th>nb_lots</th>\n",
       "      <th>price</th>\n",
       "      <th>surface</th>\n",
       "      <th>nb_chambres</th>\n",
       "      <th>nb_piece</th>\n",
       "      <th>zone_paris</th>\n",
       "    </tr>\n",
       "  </thead>\n",
       "  <tbody>\n",
       "    <tr>\n",
       "      <th>0</th>\n",
       "      <td>Ancien</td>\n",
       "      <td>240</td>\n",
       "      <td>non</td>\n",
       "      <td>7.0</td>\n",
       "      <td>Individuel</td>\n",
       "      <td>Electrique</td>\n",
       "      <td>7.0</td>\n",
       "      <td>23.0</td>\n",
       "      <td>50000.0</td>\n",
       "      <td>7.00</td>\n",
       "      <td>1.0</td>\n",
       "      <td>1.0</td>\n",
       "      <td>1</td>\n",
       "    </tr>\n",
       "    <tr>\n",
       "      <th>1</th>\n",
       "      <td>Ancien</td>\n",
       "      <td>1620</td>\n",
       "      <td>non</td>\n",
       "      <td>6.0</td>\n",
       "      <td>Autre_mode</td>\n",
       "      <td>Autre_nature</td>\n",
       "      <td>6.0</td>\n",
       "      <td>19.0</td>\n",
       "      <td>57000.0</td>\n",
       "      <td>6.00</td>\n",
       "      <td>2.0</td>\n",
       "      <td>1.0</td>\n",
       "      <td>1</td>\n",
       "    </tr>\n",
       "    <tr>\n",
       "      <th>2</th>\n",
       "      <td>Ancien</td>\n",
       "      <td>132</td>\n",
       "      <td>non</td>\n",
       "      <td>6.0</td>\n",
       "      <td>Autre_mode</td>\n",
       "      <td>Autre_nature</td>\n",
       "      <td>6.0</td>\n",
       "      <td>31.0</td>\n",
       "      <td>60000.0</td>\n",
       "      <td>5.69</td>\n",
       "      <td>1.0</td>\n",
       "      <td>1.0</td>\n",
       "      <td>1</td>\n",
       "    </tr>\n",
       "    <tr>\n",
       "      <th>3</th>\n",
       "      <td>Ancien</td>\n",
       "      <td>240</td>\n",
       "      <td>non</td>\n",
       "      <td>6.0</td>\n",
       "      <td>Individuel</td>\n",
       "      <td>Gaz</td>\n",
       "      <td>6.0</td>\n",
       "      <td>28.0</td>\n",
       "      <td>65000.0</td>\n",
       "      <td>7.00</td>\n",
       "      <td>1.0</td>\n",
       "      <td>1.0</td>\n",
       "      <td>1</td>\n",
       "    </tr>\n",
       "    <tr>\n",
       "      <th>4</th>\n",
       "      <td>Ancien</td>\n",
       "      <td>144</td>\n",
       "      <td>non</td>\n",
       "      <td>7.0</td>\n",
       "      <td>Individuel</td>\n",
       "      <td>Electrique</td>\n",
       "      <td>7.0</td>\n",
       "      <td>50.0</td>\n",
       "      <td>70000.0</td>\n",
       "      <td>7.80</td>\n",
       "      <td>2.0</td>\n",
       "      <td>1.0</td>\n",
       "      <td>1</td>\n",
       "    </tr>\n",
       "  </tbody>\n",
       "</table>\n",
       "</div>"
      ],
      "text/plain": [
       "  categorie charges_annuelles copropriete_en_difficulte  etage mode_chauffage  \\\n",
       "0    Ancien               240                       non    7.0     Individuel   \n",
       "1    Ancien              1620                       non    6.0     Autre_mode   \n",
       "2    Ancien               132                       non    6.0     Autre_mode   \n",
       "3    Ancien               240                       non    6.0     Individuel   \n",
       "4    Ancien               144                       non    7.0     Individuel   \n",
       "\n",
       "  nature_chauffage  nb_etages  nb_lots    price  surface  nb_chambres  \\\n",
       "0       Electrique        7.0     23.0  50000.0     7.00          1.0   \n",
       "1     Autre_nature        6.0     19.0  57000.0     6.00          2.0   \n",
       "2     Autre_nature        6.0     31.0  60000.0     5.69          1.0   \n",
       "3              Gaz        6.0     28.0  65000.0     7.00          1.0   \n",
       "4       Electrique        7.0     50.0  70000.0     7.80          2.0   \n",
       "\n",
       "   nb_piece  zone_paris  \n",
       "0       1.0           1  \n",
       "1       1.0           1  \n",
       "2       1.0           1  \n",
       "3       1.0           1  \n",
       "4       1.0           1  "
      ]
     },
     "execution_count": 28,
     "metadata": {},
     "output_type": "execute_result"
    }
   ],
   "source": [
    "df_lin.head()"
   ]
  },
  {
   "cell_type": "code",
   "execution_count": 29,
   "metadata": {
    "collapsed": true
   },
   "outputs": [],
   "source": [
    "#pour les colonnes ou le type est object, on remplace les strings par des chiffres représentant une catégorie\n",
    "for feature in df_lin.columns: \n",
    "    if df_lin[feature].dtype == 'object': \n",
    "        df_lin[feature] = pd.Categorical(df_lin[feature]).codes "
   ]
  },
  {
   "cell_type": "code",
   "execution_count": 30,
   "metadata": {},
   "outputs": [
    {
     "data": {
      "text/html": [
       "<div>\n",
       "<style>\n",
       "    .dataframe thead tr:only-child th {\n",
       "        text-align: right;\n",
       "    }\n",
       "\n",
       "    .dataframe thead th {\n",
       "        text-align: left;\n",
       "    }\n",
       "\n",
       "    .dataframe tbody tr th {\n",
       "        vertical-align: top;\n",
       "    }\n",
       "</style>\n",
       "<table border=\"1\" class=\"dataframe\">\n",
       "  <thead>\n",
       "    <tr style=\"text-align: right;\">\n",
       "      <th></th>\n",
       "      <th>categorie</th>\n",
       "      <th>charges_annuelles</th>\n",
       "      <th>copropriete_en_difficulte</th>\n",
       "      <th>etage</th>\n",
       "      <th>mode_chauffage</th>\n",
       "      <th>nature_chauffage</th>\n",
       "      <th>nb_etages</th>\n",
       "      <th>nb_lots</th>\n",
       "      <th>price</th>\n",
       "      <th>surface</th>\n",
       "      <th>nb_chambres</th>\n",
       "      <th>nb_piece</th>\n",
       "      <th>zone_paris</th>\n",
       "    </tr>\n",
       "  </thead>\n",
       "  <tbody>\n",
       "    <tr>\n",
       "      <th>0</th>\n",
       "      <td>0</td>\n",
       "      <td>109</td>\n",
       "      <td>0</td>\n",
       "      <td>7.0</td>\n",
       "      <td>2</td>\n",
       "      <td>1</td>\n",
       "      <td>7.0</td>\n",
       "      <td>23.0</td>\n",
       "      <td>50000.0</td>\n",
       "      <td>7.00</td>\n",
       "      <td>1.0</td>\n",
       "      <td>1.0</td>\n",
       "      <td>1</td>\n",
       "    </tr>\n",
       "    <tr>\n",
       "      <th>1</th>\n",
       "      <td>0</td>\n",
       "      <td>0</td>\n",
       "      <td>0</td>\n",
       "      <td>6.0</td>\n",
       "      <td>0</td>\n",
       "      <td>0</td>\n",
       "      <td>6.0</td>\n",
       "      <td>19.0</td>\n",
       "      <td>57000.0</td>\n",
       "      <td>6.00</td>\n",
       "      <td>2.0</td>\n",
       "      <td>1.0</td>\n",
       "      <td>1</td>\n",
       "    </tr>\n",
       "    <tr>\n",
       "      <th>2</th>\n",
       "      <td>0</td>\n",
       "      <td>25</td>\n",
       "      <td>0</td>\n",
       "      <td>6.0</td>\n",
       "      <td>0</td>\n",
       "      <td>0</td>\n",
       "      <td>6.0</td>\n",
       "      <td>31.0</td>\n",
       "      <td>60000.0</td>\n",
       "      <td>5.69</td>\n",
       "      <td>1.0</td>\n",
       "      <td>1.0</td>\n",
       "      <td>1</td>\n",
       "    </tr>\n",
       "    <tr>\n",
       "      <th>3</th>\n",
       "      <td>0</td>\n",
       "      <td>109</td>\n",
       "      <td>0</td>\n",
       "      <td>6.0</td>\n",
       "      <td>2</td>\n",
       "      <td>2</td>\n",
       "      <td>6.0</td>\n",
       "      <td>28.0</td>\n",
       "      <td>65000.0</td>\n",
       "      <td>7.00</td>\n",
       "      <td>1.0</td>\n",
       "      <td>1.0</td>\n",
       "      <td>1</td>\n",
       "    </tr>\n",
       "    <tr>\n",
       "      <th>4</th>\n",
       "      <td>0</td>\n",
       "      <td>35</td>\n",
       "      <td>0</td>\n",
       "      <td>7.0</td>\n",
       "      <td>2</td>\n",
       "      <td>1</td>\n",
       "      <td>7.0</td>\n",
       "      <td>50.0</td>\n",
       "      <td>70000.0</td>\n",
       "      <td>7.80</td>\n",
       "      <td>2.0</td>\n",
       "      <td>1.0</td>\n",
       "      <td>1</td>\n",
       "    </tr>\n",
       "  </tbody>\n",
       "</table>\n",
       "</div>"
      ],
      "text/plain": [
       "   categorie  charges_annuelles  copropriete_en_difficulte  etage  \\\n",
       "0          0                109                          0    7.0   \n",
       "1          0                  0                          0    6.0   \n",
       "2          0                 25                          0    6.0   \n",
       "3          0                109                          0    6.0   \n",
       "4          0                 35                          0    7.0   \n",
       "\n",
       "   mode_chauffage  nature_chauffage  nb_etages  nb_lots    price  surface  \\\n",
       "0               2                 1        7.0     23.0  50000.0     7.00   \n",
       "1               0                 0        6.0     19.0  57000.0     6.00   \n",
       "2               0                 0        6.0     31.0  60000.0     5.69   \n",
       "3               2                 2        6.0     28.0  65000.0     7.00   \n",
       "4               2                 1        7.0     50.0  70000.0     7.80   \n",
       "\n",
       "   nb_chambres  nb_piece  zone_paris  \n",
       "0          1.0       1.0           1  \n",
       "1          2.0       1.0           1  \n",
       "2          1.0       1.0           1  \n",
       "3          1.0       1.0           1  \n",
       "4          2.0       1.0           1  "
      ]
     },
     "execution_count": 30,
     "metadata": {},
     "output_type": "execute_result"
    }
   ],
   "source": [
    "df_lin.head()"
   ]
  },
  {
   "cell_type": "code",
   "execution_count": 31,
   "metadata": {},
   "outputs": [],
   "source": [
    "y = df_lin['price']\n",
    "X = df_lin.drop('price', axis=1)\n",
    "\n",
    "from sklearn.preprocessing import StandardScaler\n",
    "scaler_0 = StandardScaler().fit(X)\n",
    "X_0 = scaler_0.transform(X)\n",
    "\n",
    "X_train, X_test, y_train, y_test = train_test_split(X_0, y, test_size=0.3, random_state=0)"
   ]
  },
  {
   "cell_type": "markdown",
   "metadata": {},
   "source": [
    "### 2. Test du modèle Linear Regression"
   ]
  },
  {
   "cell_type": "code",
   "execution_count": 32,
   "metadata": {},
   "outputs": [
    {
     "name": "stdout",
     "output_type": "stream",
     "text": [
      "Estimated intercept coefficient :  243079.852536\n",
      "Number of coefficient :  12\n",
      "Score du modèle :  -2985.10003919\n"
     ]
    }
   ],
   "source": [
    "from sklearn.linear_model import LinearRegression\n",
    "from sklearn.metrics import mean_squared_error\n",
    "from math import sqrt\n",
    "lm = LinearRegression()\n",
    "lm.fit(X_train, y_train)\n",
    "\n",
    "print(\"Estimated intercept coefficient : \", lm.intercept_)\n",
    "print(\"Number of coefficient : \", len(lm.coef_))\n",
    "print(\"Score du modèle : \", lm.score(X, y))\n"
   ]
  },
  {
   "cell_type": "markdown",
   "metadata": {},
   "source": [
    "Le score du modèle n'est pas excellent, mais ce n'est pas la mesure la plus significative de la qualité et la pertinence du modèle."
   ]
  },
  {
   "cell_type": "markdown",
   "metadata": {},
   "source": [
    "À partir du modèle, on peut prédire les sorties de l'ensemble Test, et puis mesure la différence entre la vérité terrain et les prédictions obtenues de manière graphique.\n",
    "Ce modèle fait une erreur de 109 600€ en prédisant les prix ce qui est considérable vu le prix moyen d'un logement."
   ]
  },
  {
   "cell_type": "code",
   "execution_count": 33,
   "metadata": {},
   "outputs": [
    {
     "name": "stdout",
     "output_type": "stream",
     "text": [
      "Ce modèle fait une erreur de :\n",
      "114147.55269088196\n",
      "En pourcentage, cela fait une erreur de: \n"
     ]
    },
    {
     "data": {
      "text/plain": [
       "0.4721878055722524"
      ]
     },
     "execution_count": 33,
     "metadata": {},
     "output_type": "execute_result"
    }
   ],
   "source": [
    "y_pred = lm.predict(X_test)\n",
    "erreur = sqrt(mean_squared_error(y_test, y_pred))\n",
    "print(\"Ce modèle fait une erreur de :\") \n",
    "print(erreur)\n",
    "print (\"En pourcentage, cela fait une erreur de: \")\n",
    "erreur/y.mean()"
   ]
  },
  {
   "cell_type": "code",
   "execution_count": 34,
   "metadata": {},
   "outputs": [
    {
     "data": {
      "text/plain": [
       "Text(0,0.5,'Residuals')"
      ]
     },
     "execution_count": 34,
     "metadata": {},
     "output_type": "execute_result"
    },
    {
     "data": {
      "image/png": "[encoded data removed]",
      "text/plain": [
       "<matplotlib.figure.Figure at 0x1a13657be0>"
      ]
     },
     "metadata": {},
     "output_type": "display_data"
    }
   ],
   "source": [
    "plt.scatter(lm.predict(X_train), lm.predict(X_train) - y_train, c='b', s=40, alpha=0.5)\n",
    "plt.scatter(lm.predict(X_test), lm.predict(X_test) - y_test, c='g', s=40)\n",
    "plt.hlines(y = 0, xmin=0, xmax=50)\n",
    "plt.title('Residual Plot using training (blue) and test (green) data')\n",
    "plt.ylabel('Residuals')"
   ]
  },
  {
   "cell_type": "markdown",
   "metadata": {},
   "source": [
    "Plus les données sont proches de l'axe des abscisses, à y=0, meilleur le modèle est."
   ]
  },
  {
   "cell_type": "markdown",
   "metadata": {},
   "source": [
    "### 3. Test du modèle SVR"
   ]
  },
  {
   "cell_type": "markdown",
   "metadata": {},
   "source": [
    "Nous testons le modèle SVR avec différents kernel (polynomial, rbf et linéaire), le kernel linéaire étant le plus performant nous le présentons ci dessous"
   ]
  },
  {
   "cell_type": "code",
   "execution_count": 35,
   "metadata": {
    "collapsed": true
   },
   "outputs": [],
   "source": [
    "from sklearn.svm import SVR\n",
    "\n",
    "\n",
    "svr_lin = SVR( kernel='linear', C=1e3)\n",
    "svr_lin.fit(X_train, y_train)\n",
    "y_lin = svr_lin.predict(X_test)\n",
    "\n"
   ]
  },
  {
   "cell_type": "code",
   "execution_count": 36,
   "metadata": {},
   "outputs": [
    {
     "name": "stdout",
     "output_type": "stream",
     "text": [
      "r-squared test score : 0.467872362709\n",
      "\n",
      "mean_squared_error : 116070.78216687393\n"
     ]
    }
   ],
   "source": [
    "from sklearn.metrics import r2_score,explained_variance_score,mean_absolute_error\n",
    "from sklearn.metrics import mean_squared_error\n",
    "from math import sqrt\n",
    "\n",
    "m_lin= sqrt(mean_squared_error(y_test, y_lin))\n",
    "\n",
    "r2 = r2_score(y_test, y_lin)\n",
    "\n",
    "print(\"r-squared test score : \" + str(r2))\n",
    "print()\n",
    "print(\"mean_squared_error : \" + str(m_lin)) \n",
    "\n"
   ]
  },
  {
   "cell_type": "markdown",
   "metadata": {},
   "source": [
    "Nous obtenons un coefficient de regression faible de 47% et une erreur de 116 000 euros sur un prix moyen des logements de 240 000. On se trompe donc en moyenne de 116 000 euros sur un prix d'un logement. C'est une erreur conséquente. "
   ]
  },
  {
   "cell_type": "code",
   "execution_count": 37,
   "metadata": {},
   "outputs": [
    {
     "name": "stdout",
     "output_type": "stream",
     "text": [
      "En pourcentage, cela fait une erreur de: \n"
     ]
    },
    {
     "data": {
      "text/plain": [
       "0.4801435215247422"
      ]
     },
     "execution_count": 37,
     "metadata": {},
     "output_type": "execute_result"
    }
   ],
   "source": [
    "print (\"En pourcentage, cela fait une erreur de: \")\n",
    "m_lin/y.mean()"
   ]
  },
  {
   "cell_type": "markdown",
   "metadata": {},
   "source": [
    "Pour améliorer l'erreur, nous décidons de supprimer les valeurs extrêmes'"
   ]
  },
  {
   "cell_type": "code",
   "execution_count": 38,
   "metadata": {},
   "outputs": [
    {
     "data": {
      "text/plain": [
       "count    1.210000e+03\n",
       "mean     2.417418e+05\n",
       "std      2.043881e+05\n",
       "min      1.800000e+04\n",
       "25%      1.407000e+05\n",
       "50%      1.850000e+05\n",
       "75%      2.657500e+05\n",
       "max      3.340000e+06\n",
       "Name: price, dtype: float64"
      ]
     },
     "execution_count": 38,
     "metadata": {},
     "output_type": "execute_result"
    }
   ],
   "source": [
    "df_lin['price'].describe()"
   ]
  },
  {
   "cell_type": "code",
   "execution_count": 39,
   "metadata": {},
   "outputs": [
    {
     "data": {
      "image/png": "[encoded data removed]",
      "text/plain": [
       "<matplotlib.figure.Figure at 0x1a13aca828>"
      ]
     },
     "metadata": {},
     "output_type": "display_data"
    }
   ],
   "source": [
    " ax = sns.boxplot(x= df_lin[\"price\"])"
   ]
  },
  {
   "cell_type": "markdown",
   "metadata": {},
   "source": [
    "Nous remarquons l'existance d'une valeur maximale qui se distingue des autres et qui risque d'impacter notre erreur"
   ]
  },
  {
   "cell_type": "code",
   "execution_count": 40,
   "metadata": {
    "collapsed": true
   },
   "outputs": [],
   "source": [
    "df_lin = df_lin.drop(df_lin['price'].idxmax())"
   ]
  },
  {
   "cell_type": "code",
   "execution_count": 41,
   "metadata": {},
   "outputs": [
    {
     "data": {
      "image/png": "[encoded data removed]",
      "text/plain": [
       "<matplotlib.figure.Figure at 0x1a13bb3940>"
      ]
     },
     "metadata": {},
     "output_type": "display_data"
    }
   ],
   "source": [
    "ax = sns.boxplot(x=df_lin[\"price\"])"
   ]
  },
  {
   "cell_type": "code",
   "execution_count": 45,
   "metadata": {
    "collapsed": true
   },
   "outputs": [],
   "source": [
    "y = df_lin['price']\n",
    "X = df_lin.drop('price', axis=1)\n",
    "\n",
    "from sklearn.preprocessing import StandardScaler\n",
    "scaler_0 = StandardScaler().fit(X)\n",
    "X_0 = scaler_0.transform(X)\n",
    "\n",
    "X_train, X_test, y_train, y_test = train_test_split(X_0, y, test_size=0.3, random_state=30)"
   ]
  },
  {
   "cell_type": "code",
   "execution_count": 46,
   "metadata": {},
   "outputs": [
    {
     "name": "stdout",
     "output_type": "stream",
     "text": [
      "r-squared test score : 0.444929707782\n",
      "\n",
      "mean_squared_error : 150673.70409584144\n"
     ]
    }
   ],
   "source": [
    "svr_lin = SVR( kernel='linear', C=1e3)\n",
    "svr_lin.fit(X_train, y_train)\n",
    "y_lin = svr_lin.predict(X_test)\n",
    "\n",
    "m_lin= sqrt(mean_squared_error(y_test, y_lin))\n",
    "r2 = r2_score(y_test, y_lin)\n",
    "\n",
    "print(\"r-squared test score : \" + str(r2))\n",
    "print()\n",
    "print(\"mean_squared_error : \" + str(m_lin))\n",
    "\n"
   ]
  },
  {
   "cell_type": "code",
   "execution_count": 44,
   "metadata": {},
   "outputs": [
    {
     "data": {
      "text/plain": [
       "Text(0,0.5,'Residuals')"
      ]
     },
     "execution_count": 44,
     "metadata": {},
     "output_type": "execute_result"
    },
    {
     "data": {
      "image/png": "[encoded data removed]",
      "text/plain": [
       "<matplotlib.figure.Figure at 0x1a13670240>"
      ]
     },
     "metadata": {},
     "output_type": "display_data"
    }
   ],
   "source": [
    "#plt.scatter(svr_lin.predict(X_train), svr_lin.predict(X_train) - y_train, c='b', s=40, alpha=0.5)\n",
    "plt.scatter(y_lin , y_lin - y_test, c='g', s=40)\n",
    "plt.hlines(y = 0, xmin=0, xmax=50)\n",
    "plt.title('Residual Plot using  test (green) data')\n",
    "plt.ylabel('Residuals')"
   ]
  },
  {
   "cell_type": "markdown",
   "metadata": {},
   "source": [
    "Finalement, notre erreur augmente à 150 000 € qui est contrintuitif. Or ceci est du au fait que le split entre les données de test et train.\n",
    "Le graphique ci-dessus représente la différence entre la vérité terrain et les prédictions. \n",
    "Ainsi, notre modèle est plus pertinent pour les logements à prix inférieur à 400 000 €."
   ]
  },
  {
   "cell_type": "markdown",
   "metadata": {},
   "source": [
    "Si on teste le modèle sur les prix inférieurs à 400 000 euros nous obtenons ceci :"
   ]
  },
  {
   "cell_type": "code",
   "execution_count": 47,
   "metadata": {
    "collapsed": true
   },
   "outputs": [],
   "source": [
    "df_lin= df_lin[df_lin['price']<400000]"
   ]
  },
  {
   "cell_type": "code",
   "execution_count": 48,
   "metadata": {},
   "outputs": [
    {
     "data": {
      "text/plain": [
       "count      1082.000000\n",
       "mean     191142.988909\n",
       "std       77365.137611\n",
       "min       18000.000000\n",
       "25%      135400.000000\n",
       "50%      176000.000000\n",
       "75%      231875.000000\n",
       "max      399000.000000\n",
       "Name: price, dtype: float64"
      ]
     },
     "execution_count": 48,
     "metadata": {},
     "output_type": "execute_result"
    }
   ],
   "source": [
    "df_lin['price'].describe()"
   ]
  },
  {
   "cell_type": "code",
   "execution_count": 49,
   "metadata": {},
   "outputs": [
    {
     "name": "stdout",
     "output_type": "stream",
     "text": [
      "r-squared test score : 0.210842418239\n",
      "\n",
      "mean_squared_error : 63544.449041575666\n"
     ]
    }
   ],
   "source": [
    "y = df_lin['price']\n",
    "X = df_lin.drop('price', axis=1)\n",
    "\n",
    "from sklearn.preprocessing import StandardScaler\n",
    "scaler_0 = StandardScaler().fit(X)\n",
    "X_0 = scaler_0.transform(X)\n",
    "\n",
    "X_train, X_test, y_train, y_test = train_test_split(X_0, y, test_size=0.3)\n",
    "\n",
    "svr_lin = SVR( kernel='linear', C=1e3)\n",
    "svr_lin.fit(X_train, y_train)\n",
    "y_lin = svr_lin.predict(X_test)\n",
    "\n",
    "m_lin= sqrt(mean_squared_error(y_test, y_lin))\n",
    "r2 = r2_score(y_test, y_lin)\n",
    "\n",
    "print(\"r-squared test score : \" + str(r2))\n",
    "print()\n",
    "print(\"mean_squared_error : \" + str(m_lin))\n",
    "\n"
   ]
  },
  {
   "cell_type": "markdown",
   "metadata": {},
   "source": [
    "Notre erreur est donc divisé par deux et on arrive à prédire un prix avec une précision de 63 000€ dès lors que les prix sont inférieurs a 400 000€ et le prix moyen est de 191 000€. On a donc une erreur de 30%."
   ]
  },
  {
   "cell_type": "markdown",
   "metadata": {},
   "source": [
    "## V. Troisième modèle : Random Forest"
   ]
  },
  {
   "cell_type": "markdown",
   "metadata": {},
   "source": [
    "### 1. Préparation des données"
   ]
  },
  {
   "cell_type": "markdown",
   "metadata": {},
   "source": [
    "Lors d'une régression, il est préferable que la variable à prédire suive une loi normale. On peut donc appliquer une transformation non linéaire comme le log."
   ]
  },
  {
   "cell_type": "code",
   "execution_count": 50,
   "metadata": {},
   "outputs": [
    {
     "data": {
      "text/plain": [
       "<matplotlib.axes._subplots.AxesSubplot at 0x1a134c8710>"
      ]
     },
     "execution_count": 50,
     "metadata": {},
     "output_type": "execute_result"
    },
    {
     "data": {
      "image/png": "[encoded data removed]",
      "text/plain": [
       "<matplotlib.figure.Figure at 0x1a134aea58>"
      ]
     },
     "metadata": {},
     "output_type": "display_data"
    }
   ],
   "source": [
    "df['logprice'] = np.log(df['price'])\n",
    "sns.distplot(df['logprice'])"
   ]
  },
  {
   "cell_type": "markdown",
   "metadata": {},
   "source": [
    "Les algorithmes d'apprentissage nécessitent des variables numériques. Des 'dummies' vont donc être crées pour les variables string."
   ]
  },
  {
   "cell_type": "code",
   "execution_count": 51,
   "metadata": {
    "collapsed": true
   },
   "outputs": [],
   "source": [
    "df = df.join(pd.get_dummies(df.categorie))\n",
    "#df = df.join(pd.get_dummies(df.arrondissement))\n",
    "df = df.join(pd.get_dummies(df.mode_chauffage))\n",
    "df = df.rename(columns={\"Autre\":\"Autre_mode\"})\n",
    "df = df.join(pd.get_dummies(df.nature_chauffage))\n",
    "df = df.rename(columns={\"Autre\":\"Autre_nature\"})\n",
    "df = df.join(pd.get_dummies(df.copropriete_en_difficulte))\n",
    "df = df.rename(columns={\"oui\":\"copropriete_en_difficulte\"})"
   ]
  },
  {
   "cell_type": "markdown",
   "metadata": {},
   "source": [
    "Certaines variables 'dummiser' expriment les mêmes informations et doivent donc être retirées."
   ]
  },
  {
   "cell_type": "code",
   "execution_count": 52,
   "metadata": {
    "collapsed": true
   },
   "outputs": [],
   "source": [
    "df.drop(['arrondissement', 'postal_code', 'departement','categorie', 'mode_chauffage','copropriete_en_difficulte', 'nature_chauffage', 'non'], axis=1, inplace=True)"
   ]
  },
  {
   "cell_type": "code",
   "execution_count": 53,
   "metadata": {},
   "outputs": [
    {
     "data": {
      "text/plain": [
       "Index(['charges_annuelles', 'date_de_construction', 'etage', 'nb_etages',\n",
       "       'nb_lots', 'price', 'surface', 'nb_chambres', 'nb_piece', 'price_m2',\n",
       "       'zone_paris', 'logprice', 'Ancien', 'Récent', 'Autre_mode', 'Collectif',\n",
       "       'Individuel', 'Autre_nature', 'Electrique', 'Gaz'],\n",
       "      dtype='object')"
      ]
     },
     "execution_count": 53,
     "metadata": {},
     "output_type": "execute_result"
    }
   ],
   "source": [
    "df.columns"
   ]
  },
  {
   "cell_type": "code",
   "execution_count": 54,
   "metadata": {},
   "outputs": [
    {
     "name": "stdout",
     "output_type": "stream",
     "text": [
      "(1210, 20)\n"
     ]
    },
    {
     "data": {
      "text/html": [
       "<div>\n",
       "<style>\n",
       "    .dataframe thead tr:only-child th {\n",
       "        text-align: right;\n",
       "    }\n",
       "\n",
       "    .dataframe thead th {\n",
       "        text-align: left;\n",
       "    }\n",
       "\n",
       "    .dataframe tbody tr th {\n",
       "        vertical-align: top;\n",
       "    }\n",
       "</style>\n",
       "<table border=\"1\" class=\"dataframe\">\n",
       "  <thead>\n",
       "    <tr style=\"text-align: right;\">\n",
       "      <th></th>\n",
       "      <th>charges_annuelles</th>\n",
       "      <th>date_de_construction</th>\n",
       "      <th>etage</th>\n",
       "      <th>nb_etages</th>\n",
       "      <th>nb_lots</th>\n",
       "      <th>price</th>\n",
       "      <th>surface</th>\n",
       "      <th>nb_chambres</th>\n",
       "      <th>nb_piece</th>\n",
       "      <th>price_m2</th>\n",
       "      <th>zone_paris</th>\n",
       "      <th>logprice</th>\n",
       "      <th>Ancien</th>\n",
       "      <th>Récent</th>\n",
       "      <th>Autre_mode</th>\n",
       "      <th>Collectif</th>\n",
       "      <th>Individuel</th>\n",
       "      <th>Autre_nature</th>\n",
       "      <th>Electrique</th>\n",
       "      <th>Gaz</th>\n",
       "    </tr>\n",
       "  </thead>\n",
       "  <tbody>\n",
       "    <tr>\n",
       "      <th>0</th>\n",
       "      <td>240</td>\n",
       "      <td>1890.0</td>\n",
       "      <td>7.0</td>\n",
       "      <td>7.0</td>\n",
       "      <td>23.0</td>\n",
       "      <td>50000.0</td>\n",
       "      <td>7.00</td>\n",
       "      <td>1.0</td>\n",
       "      <td>1.0</td>\n",
       "      <td>7142.857143</td>\n",
       "      <td>1</td>\n",
       "      <td>10.819778</td>\n",
       "      <td>1</td>\n",
       "      <td>0</td>\n",
       "      <td>0</td>\n",
       "      <td>0</td>\n",
       "      <td>1</td>\n",
       "      <td>0</td>\n",
       "      <td>1</td>\n",
       "      <td>0</td>\n",
       "    </tr>\n",
       "    <tr>\n",
       "      <th>1</th>\n",
       "      <td>1620</td>\n",
       "      <td>1905.0</td>\n",
       "      <td>6.0</td>\n",
       "      <td>6.0</td>\n",
       "      <td>19.0</td>\n",
       "      <td>57000.0</td>\n",
       "      <td>6.00</td>\n",
       "      <td>2.0</td>\n",
       "      <td>1.0</td>\n",
       "      <td>9500.000000</td>\n",
       "      <td>1</td>\n",
       "      <td>10.950807</td>\n",
       "      <td>1</td>\n",
       "      <td>0</td>\n",
       "      <td>1</td>\n",
       "      <td>0</td>\n",
       "      <td>0</td>\n",
       "      <td>1</td>\n",
       "      <td>0</td>\n",
       "      <td>0</td>\n",
       "    </tr>\n",
       "    <tr>\n",
       "      <th>2</th>\n",
       "      <td>132</td>\n",
       "      <td>1800.0</td>\n",
       "      <td>6.0</td>\n",
       "      <td>6.0</td>\n",
       "      <td>31.0</td>\n",
       "      <td>60000.0</td>\n",
       "      <td>5.69</td>\n",
       "      <td>1.0</td>\n",
       "      <td>1.0</td>\n",
       "      <td>10544.815466</td>\n",
       "      <td>1</td>\n",
       "      <td>11.002100</td>\n",
       "      <td>1</td>\n",
       "      <td>0</td>\n",
       "      <td>1</td>\n",
       "      <td>0</td>\n",
       "      <td>0</td>\n",
       "      <td>1</td>\n",
       "      <td>0</td>\n",
       "      <td>0</td>\n",
       "    </tr>\n",
       "    <tr>\n",
       "      <th>3</th>\n",
       "      <td>240</td>\n",
       "      <td>1900.0</td>\n",
       "      <td>6.0</td>\n",
       "      <td>6.0</td>\n",
       "      <td>28.0</td>\n",
       "      <td>65000.0</td>\n",
       "      <td>7.00</td>\n",
       "      <td>1.0</td>\n",
       "      <td>1.0</td>\n",
       "      <td>9285.714286</td>\n",
       "      <td>1</td>\n",
       "      <td>11.082143</td>\n",
       "      <td>1</td>\n",
       "      <td>0</td>\n",
       "      <td>0</td>\n",
       "      <td>0</td>\n",
       "      <td>1</td>\n",
       "      <td>0</td>\n",
       "      <td>0</td>\n",
       "      <td>1</td>\n",
       "    </tr>\n",
       "    <tr>\n",
       "      <th>4</th>\n",
       "      <td>144</td>\n",
       "      <td>1900.0</td>\n",
       "      <td>7.0</td>\n",
       "      <td>7.0</td>\n",
       "      <td>50.0</td>\n",
       "      <td>70000.0</td>\n",
       "      <td>7.80</td>\n",
       "      <td>2.0</td>\n",
       "      <td>1.0</td>\n",
       "      <td>8974.358974</td>\n",
       "      <td>1</td>\n",
       "      <td>11.156251</td>\n",
       "      <td>1</td>\n",
       "      <td>0</td>\n",
       "      <td>0</td>\n",
       "      <td>0</td>\n",
       "      <td>1</td>\n",
       "      <td>0</td>\n",
       "      <td>1</td>\n",
       "      <td>0</td>\n",
       "    </tr>\n",
       "  </tbody>\n",
       "</table>\n",
       "</div>"
      ],
      "text/plain": [
       "  charges_annuelles  date_de_construction  etage  nb_etages  nb_lots    price  \\\n",
       "0               240                1890.0    7.0        7.0     23.0  50000.0   \n",
       "1              1620                1905.0    6.0        6.0     19.0  57000.0   \n",
       "2               132                1800.0    6.0        6.0     31.0  60000.0   \n",
       "3               240                1900.0    6.0        6.0     28.0  65000.0   \n",
       "4               144                1900.0    7.0        7.0     50.0  70000.0   \n",
       "\n",
       "   surface  nb_chambres  nb_piece      price_m2  zone_paris   logprice  \\\n",
       "0     7.00          1.0       1.0   7142.857143           1  10.819778   \n",
       "1     6.00          2.0       1.0   9500.000000           1  10.950807   \n",
       "2     5.69          1.0       1.0  10544.815466           1  11.002100   \n",
       "3     7.00          1.0       1.0   9285.714286           1  11.082143   \n",
       "4     7.80          2.0       1.0   8974.358974           1  11.156251   \n",
       "\n",
       "   Ancien  Récent  Autre_mode  Collectif  Individuel  Autre_nature  \\\n",
       "0       1       0           0          0           1             0   \n",
       "1       1       0           1          0           0             1   \n",
       "2       1       0           1          0           0             1   \n",
       "3       1       0           0          0           1             0   \n",
       "4       1       0           0          0           1             0   \n",
       "\n",
       "   Electrique  Gaz  \n",
       "0           1    0  \n",
       "1           0    0  \n",
       "2           0    0  \n",
       "3           0    1  \n",
       "4           1    0  "
      ]
     },
     "execution_count": 54,
     "metadata": {},
     "output_type": "execute_result"
    }
   ],
   "source": [
    "print(df.shape)\n",
    "df.head()"
   ]
  },
  {
   "cell_type": "markdown",
   "metadata": {},
   "source": [
    "### 2. Test du modèle Random Forest\n"
   ]
  },
  {
   "cell_type": "code",
   "execution_count": 55,
   "metadata": {},
   "outputs": [
    {
     "name": "stdout",
     "output_type": "stream",
     "text": [
      "Le coefficient de corrélation est égal à 0.7737793757094344\n",
      "Le MSE est égal à 84357.44349953909\n"
     ]
    }
   ],
   "source": [
    "from sklearn.ensemble import RandomForestRegressor\n",
    "from sklearn.linear_model import LinearRegression\n",
    "from sklearn.svm import SVR\n",
    "from sklearn.metrics import mean_squared_error\n",
    "from math import sqrt\n",
    "\n",
    "y = df.logprice\n",
    "X = df.drop([\"logprice\",\"price\",\"price_m2\"], axis=1)\n",
    "X_train, X_test, y_train, y_test = train_test_split(X, y, test_size=0.2, random_state=42)\n",
    "reg = RandomForestRegressor(n_estimators=500)\n",
    "reg.fit(X_train, y_train)\n",
    "print(\"Le coefficient de corrélation est égal à {}\".format(reg.score(X_test, y_test)))\n",
    "y_pred = reg.predict(X_test)\n",
    "print(\"Le MSE est égal à {}\".format(sqrt(mean_squared_error(np.exp(y_test), np.exp(y_pred)))))"
   ]
  },
  {
   "cell_type": "markdown",
   "metadata": {},
   "source": [
    "##### On obtient un coefficient de corrélation R2 égal à 0.78 . Par ailleurs, le MSE est égal à 84 000. On se trompe donc en moyenne de 84 000€ pour chaque appartement. \n",
    "\n",
    "Par ailleurs, on peut observer l'impact positif d'avoir pris le log du prix comme variable à prédire. On obtient pour le modèle ci-dessous (variable = price) un MSE supérieur. \n",
    "\n",
    "Le paramètre random_state permet de comparer plusieurs modèles car il s'agit du même aléa utilisé. "
   ]
  },
  {
   "cell_type": "code",
   "execution_count": 56,
   "metadata": {},
   "outputs": [
    {
     "name": "stdout",
     "output_type": "stream",
     "text": [
      "Le coefficient de corrélation est égal à 0.7105343234341208\n",
      "Le MSE est égal à 96154.54351530774\n"
     ]
    }
   ],
   "source": [
    "y = df.price\n",
    "X = df.drop([\"logprice\",\"price\",\"price_m2\"], axis=1)\n",
    "X_train, X_test, y_train, y_test = train_test_split(X, y, test_size=0.2, random_state=42)\n",
    "reg = RandomForestRegressor(n_estimators=500)\n",
    "reg.fit(X_train, y_train)\n",
    "print(\"Le coefficient de corrélation est égal à {}\".format(reg.score(X_test, y_test)))\n",
    "y_pred = reg.predict(X_test)\n",
    "print(\"Le MSE est égal à {}\".format(sqrt(mean_squared_error(y_test, y_pred))))"
   ]
  },
  {
   "cell_type": "markdown",
   "metadata": {},
   "source": [
    "On peut observer ensuite l'importance de chacune des variables dans la prédiction du prix. On retrouve certaines observations faites lors de l'analyse exploratoire."
   ]
  },
  {
   "cell_type": "code",
   "execution_count": 57,
   "metadata": {},
   "outputs": [
    {
     "data": {
      "text/plain": [
       "<matplotlib.axes._subplots.AxesSubplot at 0x1a134a60b8>"
      ]
     },
     "execution_count": 57,
     "metadata": {},
     "output_type": "execute_result"
    },
    {
     "data": {
      "image/png": "[encoded data removed]",
      "text/plain": [
       "<matplotlib.figure.Figure at 0x1a13208d30>"
      ]
     },
     "metadata": {},
     "output_type": "display_data"
    }
   ],
   "source": [
    "features = pd.DataFrame()\n",
    "features['feature'] = X_train.columns\n",
    "features['importance'] = reg.feature_importances_\n",
    "features.sort_values(by=['importance'], ascending=True, inplace=True)\n",
    "features.set_index('feature', inplace=True)\n",
    "features.plot(kind='barh', figsize=(10, 10))"
   ]
  },
  {
   "cell_type": "markdown",
   "metadata": {},
   "source": [
    "Regardons plus en détail, comment se décompose le MSE par zone (Paris/Hors Paris)"
   ]
  },
  {
   "cell_type": "code",
   "execution_count": 58,
   "metadata": {},
   "outputs": [
    {
     "name": "stdout",
     "output_type": "stream",
     "text": [
      "Le coefficient de corrélation est égal à 0.5676808165068409\n",
      "Le MSE est égal à 77209.00928792467\n"
     ]
    }
   ],
   "source": [
    "dfx = df[df['zone_paris']==0]\n",
    "y2 = dfx.logprice\n",
    "X2 = dfx.drop([\"logprice\",\"price\",\"price_m2\"], axis=1)\n",
    "X2_train, X2_test, y2_train, y2_test = train_test_split(X2, y2, test_size=0.2, random_state=30)\n",
    "reg = RandomForestRegressor(n_estimators=500, random_state=42)\n",
    "reg.fit(X2_train, y2_train)\n",
    "print(\"Le coefficient de corrélation est égal à {}\".format(reg.score(X2_test, y2_test)))\n",
    "\n",
    "y2_pred = reg.predict(X2_test)\n",
    "print(\"Le MSE est égal à {}\".format(sqrt(mean_squared_error(np.exp(y2_test), np.exp(y2_pred)))))"
   ]
  },
  {
   "cell_type": "code",
   "execution_count": 59,
   "metadata": {},
   "outputs": [
    {
     "name": "stdout",
     "output_type": "stream",
     "text": [
      "Le coefficient de corrélation est égal à 0.930143570073119\n",
      "Le MSE est égal à 167694.97378860542\n"
     ]
    }
   ],
   "source": [
    "dfx = df[df['zone_paris']==1]\n",
    "y2 = dfx.logprice\n",
    "X2 = dfx.drop([\"logprice\",\"price\",\"price_m2\"], axis=1)\n",
    "X2_train, X2_test, y2_train, y2_test = train_test_split(X2, y2, test_size=0.2, random_state=30)\n",
    "reg = RandomForestRegressor(n_estimators=500, random_state=42)\n",
    "reg.fit(X2_train, y2_train)\n",
    "print(\"Le coefficient de corrélation est égal à {}\".format(reg.score(X2_test, y2_test)))\n",
    "\n",
    "y2_pred = reg.predict(X2_test)\n",
    "print(\"Le MSE est égal à {}\".format(sqrt(mean_squared_error(np.exp(y2_test), np.exp(y2_pred)))))"
   ]
  },
  {
   "cell_type": "markdown",
   "metadata": {},
   "source": [
    "On observe que l'erreur de prédiction pour la zone Paris est très élevée comparée à celle Hors Paris.\n",
    "\n",
    "Néanmoins, on se souvient que certains prix d'appartements étaient très élevés par rapport à la médiane et moyenne des prix. Si l'on visualise les appartements pour lesquels l'erreur d'estimation est très élevée, on retrouve ces mêmes appartements dont le prix est très élevé. \n",
    "\n",
    "En recalculant le MSE sans prendre en compte ces deux appartements, on passe de 173000€ à 89000€, ce qui améliorerait nettement le MSE global. "
   ]
  },
  {
   "cell_type": "code",
   "execution_count": 60,
   "metadata": {},
   "outputs": [
    {
     "name": "stdout",
     "output_type": "stream",
     "text": [
      "Les deux estimations ci-dessous biaisent fortement le calcul du MSE car les erreurs d'estimation sont très élevées.\n",
      "\n",
      "     surface      price      priceEst     priceError\n",
      "137    122.0  1770000.0  1.139594e+06  630406.414102\n",
      "138    200.0  1875000.0  1.451618e+06  423381.593025\n",
      "101     57.0   619000.0  3.874787e+05  231521.309324\n",
      "\n",
      "Le MSE initial est égal à 167694.97378860542\n",
      "Le nouveau MSE sans prise en compte des deux valeurs est égal à 89140.78498604732\n"
     ]
    }
   ],
   "source": [
    "result_df = pd.DataFrame();\n",
    "yt = pd.DataFrame(y2_test)\n",
    "result_df['surface'] = X2_test['surface']\n",
    "result_df['price'] = np.exp(yt.logprice)\n",
    "result_df['priceEst'] = np.exp(reg.predict(X2_test))\n",
    "result_df['priceError'] = abs(result_df['priceEst'] - result_df['price'])\n",
    "print(\"Les deux estimations ci-dessous biaisent fortement le calcul du MSE car les erreurs d'estimation sont très élevées.\")\n",
    "print(\"\")\n",
    "print(result_df[result_df['priceError']>200000])\n",
    "print(\"\")\n",
    "print(\"Le MSE initial est égal à {}\".format(np.sqrt(mean_squared_error(result_df.priceEst, result_df.price))))\n",
    "result_df_fixed = result_df[result_df['price']<1000000]\n",
    "print(\"Le nouveau MSE sans prise en compte des deux valeurs est égal à {}\".format(np.sqrt(mean_squared_error(result_df_fixed.priceEst, result_df_fixed.price))))"
   ]
  }
 ],
 "metadata": {
  "kernelspec": {
   "display_name": "Python 3",
   "language": "python",
   "name": "python3"
  },
  "language_info": {
   "codemirror_mode": {
    "name": "ipython",
    "version": 3
   },
   "file_extension": ".py",
   "mimetype": "text/x-python",
   "name": "python",
   "nbconvert_exporter": "python",
   "pygments_lexer": "ipython3",
   "version": "3.6.3"
  }
 },
 "nbformat": 4,
 "nbformat_minor": 2
}
